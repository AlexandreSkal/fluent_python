{
 "cells": [
  {
   "cell_type": "code",
   "execution_count": 30,
   "metadata": {},
   "outputs": [],
   "source": [
    "import collections\n",
    "\n",
    "Card = collections.namedtuple('Card', ['rank', 'suit'])\n",
    "\n",
    "class FrenchDeck:\n",
    "    ranks = [str(n) for n in range(2,11)] + list('JQKA')\n",
    "    suits = 'spades diamonds clubs hearts'.split()\n",
    "    \n",
    "    def __init__(self):\n",
    "        self._cards = [Card(rank, suit) for rank in self.ranks for suit in self.suits]\n",
    "        \n",
    "        \n",
    "    def __len__(self):\n",
    "        return len(self._cards)\n",
    "    \n",
    "    \n",
    "    def __getitem__(self, position):\n",
    "        return self._cards[position]\n",
    "\n",
    "deck = FrenchDeck()"
   ]
  },
  {
   "cell_type": "code",
   "execution_count": null,
   "metadata": {},
   "outputs": [
    {
     "data": {
      "text/plain": [
       "Card(rank='A', suit='hearts')"
      ]
     },
     "execution_count": 28,
     "metadata": {},
     "output_type": "execute_result"
    }
   ],
   "source": [
    "len(deck)\n",
    "deck[0]\n",
    "deck[-1]"
   ]
  },
  {
   "cell_type": "code",
   "execution_count": 19,
   "metadata": {},
   "outputs": [
    {
     "data": {
      "text/plain": [
       "Card(rank='6', suit='diamonds')"
      ]
     },
     "execution_count": 19,
     "metadata": {},
     "output_type": "execute_result"
    }
   ],
   "source": [
    "from random import choice\n",
    "choice(deck)"
   ]
  },
  {
   "cell_type": "code",
   "execution_count": null,
   "metadata": {},
   "outputs": [],
   "source": [
    "#Because our __getitem__ delegates to the [] operator of self._cards, our deck automatically supports slicing.\n",
    "deck[:3]\n",
    "deck[12::13]"
   ]
  },
  {
   "cell_type": "code",
   "execution_count": null,
   "metadata": {},
   "outputs": [],
   "source": [
    "#is also iterable\n",
    "for card in deck:\n",
    "    print(card)"
   ]
  },
  {
   "cell_type": "code",
   "execution_count": null,
   "metadata": {},
   "outputs": [
    {
     "name": "stdout",
     "output_type": "stream",
     "text": [
      "Card(rank='2', suit='spades'): 3\n",
      "Card(rank='2', suit='diamonds'): 1\n",
      "Card(rank='2', suit='clubs'): 0\n",
      "Card(rank='2', suit='hearts'): 2\n",
      "Card(rank='3', suit='spades'): 7\n",
      "Card(rank='3', suit='diamonds'): 5\n",
      "Card(rank='3', suit='clubs'): 4\n",
      "Card(rank='3', suit='hearts'): 6\n",
      "Card(rank='4', suit='spades'): 11\n",
      "Card(rank='4', suit='diamonds'): 9\n",
      "Card(rank='4', suit='clubs'): 8\n",
      "Card(rank='4', suit='hearts'): 10\n",
      "Card(rank='5', suit='spades'): 15\n",
      "Card(rank='5', suit='diamonds'): 13\n",
      "Card(rank='5', suit='clubs'): 12\n",
      "Card(rank='5', suit='hearts'): 14\n",
      "Card(rank='6', suit='spades'): 19\n",
      "Card(rank='6', suit='diamonds'): 17\n",
      "Card(rank='6', suit='clubs'): 16\n",
      "Card(rank='6', suit='hearts'): 18\n",
      "Card(rank='7', suit='spades'): 23\n",
      "Card(rank='7', suit='diamonds'): 21\n",
      "Card(rank='7', suit='clubs'): 20\n",
      "Card(rank='7', suit='hearts'): 22\n",
      "Card(rank='8', suit='spades'): 27\n",
      "Card(rank='8', suit='diamonds'): 25\n",
      "Card(rank='8', suit='clubs'): 24\n",
      "Card(rank='8', suit='hearts'): 26\n",
      "Card(rank='9', suit='spades'): 31\n",
      "Card(rank='9', suit='diamonds'): 29\n",
      "Card(rank='9', suit='clubs'): 28\n",
      "Card(rank='9', suit='hearts'): 30\n",
      "Card(rank='10', suit='spades'): 35\n",
      "Card(rank='10', suit='diamonds'): 33\n",
      "Card(rank='10', suit='clubs'): 32\n",
      "Card(rank='10', suit='hearts'): 34\n",
      "Card(rank='J', suit='spades'): 39\n",
      "Card(rank='J', suit='diamonds'): 37\n",
      "Card(rank='J', suit='clubs'): 36\n",
      "Card(rank='J', suit='hearts'): 38\n",
      "Card(rank='Q', suit='spades'): 43\n",
      "Card(rank='Q', suit='diamonds'): 41\n",
      "Card(rank='Q', suit='clubs'): 40\n",
      "Card(rank='Q', suit='hearts'): 42\n",
      "Card(rank='K', suit='spades'): 47\n",
      "Card(rank='K', suit='diamonds'): 45\n",
      "Card(rank='K', suit='clubs'): 44\n",
      "Card(rank='K', suit='hearts'): 46\n",
      "Card(rank='A', suit='spades'): 51\n",
      "Card(rank='A', suit='diamonds'): 49\n",
      "Card(rank='A', suit='clubs'): 48\n",
      "Card(rank='A', suit='hearts'): 50\n"
     ]
    }
   ],
   "source": [
    "suit_values = dict(spades=3, hearts=2, diamonds=1, clubs=0)\n",
    "def spades_high(card):\n",
    "    rank_value = FrenchDeck.ranks.index(card.rank)\n",
    "    #print(f'{card}: {rank_value}')   \n",
    "    #print(f'card {suit_values}: {len(suit_values)}')   \n",
    "    #print(suit_values[card.suit])\n",
    "    print(f'{card}: rank_value: {rank_value} * len(suit_values): {len(suit_values)} + suit_values[card.suit]: {suit_values[card.suit]} => {rank_value * len(suit_values) + suit_values[card.suit]}')\n",
    "    \n",
    "    return rank_value * len(suit_values) + suit_values[card.suit]\n",
    "\n",
    "for card in sorted(deck, key=spades_high):\n",
    "    pass\n",
    "    #print(card)"
   ]
  }
 ],
 "metadata": {
  "kernelspec": {
   "display_name": "Python 3",
   "language": "python",
   "name": "python3"
  },
  "language_info": {
   "codemirror_mode": {
    "name": "ipython",
    "version": 3
   },
   "file_extension": ".py",
   "mimetype": "text/x-python",
   "name": "python",
   "nbconvert_exporter": "python",
   "pygments_lexer": "ipython3",
   "version": "3.13.1"
  }
 },
 "nbformat": 4,
 "nbformat_minor": 2
}
